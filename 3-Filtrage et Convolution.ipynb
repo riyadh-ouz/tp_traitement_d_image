{
 "cells": [
  {
   "cell_type": "markdown",
   "metadata": {},
   "source": [
    "# III- Filtrage et Convolution"
   ]
  },
  {
   "cell_type": "markdown",
   "metadata": {},
   "source": [
    "### Import libraries"
   ]
  },
  {
   "cell_type": "code",
   "execution_count": 1,
   "metadata": {},
   "outputs": [],
   "source": [
    "import cv2 as cv\n",
    "import numpy as np\n",
    "import matplotlib.pyplot as plt"
   ]
  },
  {
   "cell_type": "markdown",
   "metadata": {},
   "source": [
    "### Lecture d'image"
   ]
  },
  {
   "cell_type": "code",
   "execution_count": 2,
   "metadata": {},
   "outputs": [],
   "source": [
    "\n",
    "# charger l'image dans la matrice img\n",
    "path = 'source/coins.png'\n",
    "img = cv.imread(path, 0)"
   ]
  },
  {
   "cell_type": "markdown",
   "metadata": {},
   "source": [
    "## III.1- Le filtre moyenneur"
   ]
  },
  {
   "cell_type": "code",
   "execution_count": 3,
   "metadata": {},
   "outputs": [],
   "source": [
    "TAILLE_FILTRE = 3\n",
    "moy = cv.blur(img, ksize=(TAILLE_FILTRE, TAILLE_FILTRE))"
   ]
  },
  {
   "cell_type": "markdown",
   "metadata": {},
   "source": [
    "## III.2- le filtre mediane (elimination du bruit de type sel et poivron)"
   ]
  },
  {
   "cell_type": "code",
   "execution_count": 4,
   "metadata": {},
   "outputs": [],
   "source": [
    "TAILLE_FILTRE = 3\n",
    "med = cv.medianBlur(img, TAILLE_FILTRE)"
   ]
  },
  {
   "cell_type": "markdown",
   "metadata": {},
   "source": [
    "## III.3- le filtre gaussian (elimination du bruit de type gaussiane)"
   ]
  },
  {
   "cell_type": "code",
   "execution_count": 5,
   "metadata": {},
   "outputs": [],
   "source": [
    "TAILLE_FILTRE = 3\n",
    "gauss = cv.GaussianBlur(img, (TAILLE_FILTRE, TAILLE_FILTRE), 0)"
   ]
  },
  {
   "cell_type": "markdown",
   "metadata": {},
   "source": [
    "## Affichage"
   ]
  },
  {
   "cell_type": "code",
   "execution_count": 6,
   "metadata": {},
   "outputs": [],
   "source": [
    "# affichage des images\n",
    "cv.imshow('Originale', img)\n",
    "cv.imshow('Moyenneur', moy)\n",
    "cv.imshow('Mediane', med)\n",
    "cv.imshow('Gaussian', gauss)\n",
    "\n",
    "# attendre la fermeture des fenètres\n",
    "cv.waitKey(delay=0)\n",
    "cv.destroyAllWindows()"
   ]
  },
  {
   "cell_type": "code",
   "execution_count": null,
   "metadata": {},
   "outputs": [],
   "source": []
  },
  {
   "cell_type": "code",
   "execution_count": null,
   "metadata": {},
   "outputs": [],
   "source": []
  },
  {
   "cell_type": "code",
   "execution_count": null,
   "metadata": {},
   "outputs": [],
   "source": []
  }
 ],
 "metadata": {
  "kernelspec": {
   "display_name": "Python 3",
   "language": "python",
   "name": "python3"
  },
  "language_info": {
   "codemirror_mode": {
    "name": "ipython",
    "version": 3
   },
   "file_extension": ".py",
   "mimetype": "text/x-python",
   "name": "python",
   "nbconvert_exporter": "python",
   "pygments_lexer": "ipython3",
   "version": "3.9.6"
  }
 },
 "nbformat": 4,
 "nbformat_minor": 4
}
